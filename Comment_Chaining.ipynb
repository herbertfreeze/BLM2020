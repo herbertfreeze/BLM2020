{
 "cells": [
  {
   "cell_type": "code",
   "execution_count": 2,
   "metadata": {},
   "outputs": [],
   "source": [
    "import pandas as pd\n",
    "import glob\n",
    "import shutil\n",
    "import numpy as np\n",
    "from collections import defaultdict\n",
    "import os\n",
    "import json\n",
    "from ast import literal_eval\n",
    "import matplotlib.pyplot as plt\n",
    "from analysis_functions import *\n",
    "from multiprocessing import Pool\n",
    "import lzma\n",
    "from functions5 import *"
   ]
  },
  {
   "cell_type": "markdown",
   "metadata": {},
   "source": [
    "## Comment Parser\n",
    "\n",
    "#### Here we aggregate comments into 1) comment dataframes and 2) commenter profiles"
   ]
  },
  {
   "cell_type": "code",
   "execution_count": 3,
   "metadata": {},
   "outputs": [],
   "source": [
    "files = [f for f in glob.glob(\"E:/Data-Dumps/BLM/Comments/*.json\")]"
   ]
  },
  {
   "cell_type": "code",
   "execution_count": 5,
   "metadata": {},
   "outputs": [
    {
     "name": "stdout",
     "output_type": "stream",
     "text": [
      "Wall time: 15min 51s\n"
     ]
    }
   ],
   "source": [
    "%%time\n",
    "if __name__ == \"__main__\":\n",
    "    pool = Pool(24)\n",
    "    df = pool.map(process_comments, files)\n",
    "    pool.close()\n",
    "    pool.join()\n",
    "    df = pd.concat(df)\n",
    "df.to_pickle(\"Processed_Data/Comments.pkl\")"
   ]
  }
 ],
 "metadata": {
  "kernelspec": {
   "display_name": "Python 3",
   "language": "python",
   "name": "python3"
  },
  "language_info": {
   "codemirror_mode": {
    "name": "ipython",
    "version": 3
   },
   "file_extension": ".py",
   "mimetype": "text/x-python",
   "name": "python",
   "nbconvert_exporter": "python",
   "pygments_lexer": "ipython3",
   "version": "3.7.7"
  }
 },
 "nbformat": 4,
 "nbformat_minor": 4
}
